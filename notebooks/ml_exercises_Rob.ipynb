{
 "cells": [
  {
   "cell_type": "code",
   "execution_count": 1,
   "id": "11e0ea79",
   "metadata": {},
   "outputs": [],
   "source": [
    "import pandas as pd\n",
    "import numpy as numpy\n",
    "import polars as pl\n",
    "import json\n",
    "import matplotlib.pyplot as plt\n",
    "import matplotlib as mpl"
   ]
  },
  {
   "cell_type": "markdown",
   "id": "25e504b5",
   "metadata": {},
   "source": [
    "##Machine Learning Exercise 1 - Introduction to Regression for Predictive Analytics##\n",
    "\n",
    "For this exercise, you've been provided a dataset derived from the full WeGo headway dataset. Your goal is to see how well a model can predict the ADHERENCE value.\n",
    "\n",
    "Note that this dataset is a condensed version of the dataset that you've worked with before. Each trip has been condensed to a single row, identified by the ID column, a combination of the original CALENDAR_ID and TRIP_ID columns and where the ADHERENCE value is ADHERENCE value for the next-to-last stop."
   ]
  },
  {
   "cell_type": "code",
   "execution_count": 2,
   "id": "56a30a7f",
   "metadata": {},
   "outputs": [],
   "source": [
    "# For example, the original data, the first trip\n",
    "# \tID \tCALENDAR_ID \tTRIP_ID \tADHERENCE \tTRIP_EDGE\n",
    "# 0 \t120230801_345104 \t120230801 \t345104 \t-2.13333 \t1\n",
    "# 1 \t120230801_345104 \t120230801 \t345104 \t-2.45 \t0\n",
    "# 2 \t120230801_345104 \t120230801 \t345104 \t-0.933333 \t0\n",
    "# 3 \t120230801_345104 \t120230801 \t345104 \t6.28333 \t2\n",
    "\n",
    "# Has been reduced to just the value for the next-to-last stop:\n",
    "# \tID \tCALENDAR_ID \tTRIP_ID \tADHERENCE \tTRIP_EDGE\n",
    "# 2 \t120230801_345104 \t120230801 \t345104 \t-0.933333 \t0\n",
    "\n",
    "# Note: Make sure that you perform a train/test split before fitting any models so that you can properly measure the performance of the model."
   ]
  },
  {
   "cell_type": "code",
   "execution_count": 3,
   "id": "801ce84e",
   "metadata": {},
   "outputs": [],
   "source": [
    "wego = pd.read_csv('../data/wego_ml.csv')"
   ]
  },
  {
   "cell_type": "code",
   "execution_count": 4,
   "id": "7415e4f8",
   "metadata": {},
   "outputs": [
    {
     "data": {
      "text/html": [
       "<div>\n",
       "<style scoped>\n",
       "    .dataframe tbody tr th:only-of-type {\n",
       "        vertical-align: middle;\n",
       "    }\n",
       "\n",
       "    .dataframe tbody tr th {\n",
       "        vertical-align: top;\n",
       "    }\n",
       "\n",
       "    .dataframe thead th {\n",
       "        text-align: right;\n",
       "    }\n",
       "</style>\n",
       "<table border=\"1\" class=\"dataframe\">\n",
       "  <thead>\n",
       "    <tr style=\"text-align: right;\">\n",
       "      <th></th>\n",
       "      <th>ID</th>\n",
       "      <th>CALENDAR_ID</th>\n",
       "      <th>SERVICE_ABBR</th>\n",
       "      <th>ADHERENCE_ID</th>\n",
       "      <th>DATE</th>\n",
       "      <th>ROUTE_ABBR</th>\n",
       "      <th>BLOCK_ABBR</th>\n",
       "      <th>OPERATOR</th>\n",
       "      <th>TRIP_ID</th>\n",
       "      <th>OVERLOAD_ID</th>\n",
       "      <th>...</th>\n",
       "      <th>ADJUSTED_ONTIME_COUNT</th>\n",
       "      <th>STOP_CANCELLED</th>\n",
       "      <th>PREV_SCHED_STOP_CANCELLED</th>\n",
       "      <th>IS_RELIEF</th>\n",
       "      <th>BLOCK_STOP_ORDER</th>\n",
       "      <th>DWELL_IN_MINS</th>\n",
       "      <th>NextDay_Scheduled</th>\n",
       "      <th>NextDay_Actual_Arrival</th>\n",
       "      <th>NextDay_Actual_Departure</th>\n",
       "      <th>STARTING_ADHERENCE</th>\n",
       "    </tr>\n",
       "  </thead>\n",
       "  <tbody>\n",
       "    <tr>\n",
       "      <th>0</th>\n",
       "      <td>120230801_345104</td>\n",
       "      <td>120230801</td>\n",
       "      <td>1</td>\n",
       "      <td>99457892</td>\n",
       "      <td>2023-08-01</td>\n",
       "      <td>22</td>\n",
       "      <td>2200</td>\n",
       "      <td>1040</td>\n",
       "      <td>345104</td>\n",
       "      <td>0</td>\n",
       "      <td>...</td>\n",
       "      <td>1</td>\n",
       "      <td>0</td>\n",
       "      <td>0.0</td>\n",
       "      <td>0</td>\n",
       "      <td>19</td>\n",
       "      <td>0.0</td>\n",
       "      <td>0</td>\n",
       "      <td>0</td>\n",
       "      <td>0</td>\n",
       "      <td>-2.133333</td>\n",
       "    </tr>\n",
       "    <tr>\n",
       "      <th>1</th>\n",
       "      <td>120230801_345105</td>\n",
       "      <td>120230801</td>\n",
       "      <td>1</td>\n",
       "      <td>99457895</td>\n",
       "      <td>2023-08-01</td>\n",
       "      <td>22</td>\n",
       "      <td>2200</td>\n",
       "      <td>1040</td>\n",
       "      <td>345105</td>\n",
       "      <td>0</td>\n",
       "      <td>...</td>\n",
       "      <td>1</td>\n",
       "      <td>0</td>\n",
       "      <td>0.0</td>\n",
       "      <td>0</td>\n",
       "      <td>51</td>\n",
       "      <td>0.0</td>\n",
       "      <td>0</td>\n",
       "      <td>0</td>\n",
       "      <td>0</td>\n",
       "      <td>-1.583333</td>\n",
       "    </tr>\n",
       "    <tr>\n",
       "      <th>2</th>\n",
       "      <td>120230801_345106</td>\n",
       "      <td>120230801</td>\n",
       "      <td>1</td>\n",
       "      <td>99457899</td>\n",
       "      <td>2023-08-01</td>\n",
       "      <td>22</td>\n",
       "      <td>2200</td>\n",
       "      <td>1040</td>\n",
       "      <td>345106</td>\n",
       "      <td>0</td>\n",
       "      <td>...</td>\n",
       "      <td>1</td>\n",
       "      <td>0</td>\n",
       "      <td>0.0</td>\n",
       "      <td>0</td>\n",
       "      <td>80</td>\n",
       "      <td>0.0</td>\n",
       "      <td>0</td>\n",
       "      <td>0</td>\n",
       "      <td>0</td>\n",
       "      <td>-1.716666</td>\n",
       "    </tr>\n",
       "    <tr>\n",
       "      <th>3</th>\n",
       "      <td>120230801_345107</td>\n",
       "      <td>120230801</td>\n",
       "      <td>1</td>\n",
       "      <td>99457902</td>\n",
       "      <td>2023-08-01</td>\n",
       "      <td>22</td>\n",
       "      <td>2200</td>\n",
       "      <td>1040</td>\n",
       "      <td>345107</td>\n",
       "      <td>0</td>\n",
       "      <td>...</td>\n",
       "      <td>0</td>\n",
       "      <td>0</td>\n",
       "      <td>0.0</td>\n",
       "      <td>0</td>\n",
       "      <td>112</td>\n",
       "      <td>0.0</td>\n",
       "      <td>0</td>\n",
       "      <td>0</td>\n",
       "      <td>0</td>\n",
       "      <td>-1.316666</td>\n",
       "    </tr>\n",
       "    <tr>\n",
       "      <th>4</th>\n",
       "      <td>120230801_345108</td>\n",
       "      <td>120230801</td>\n",
       "      <td>1</td>\n",
       "      <td>99457906</td>\n",
       "      <td>2023-08-01</td>\n",
       "      <td>22</td>\n",
       "      <td>2200</td>\n",
       "      <td>1040</td>\n",
       "      <td>345108</td>\n",
       "      <td>0</td>\n",
       "      <td>...</td>\n",
       "      <td>1</td>\n",
       "      <td>0</td>\n",
       "      <td>0.0</td>\n",
       "      <td>0</td>\n",
       "      <td>141</td>\n",
       "      <td>0.0</td>\n",
       "      <td>0</td>\n",
       "      <td>0</td>\n",
       "      <td>0</td>\n",
       "      <td>-1.516666</td>\n",
       "    </tr>\n",
       "  </tbody>\n",
       "</table>\n",
       "<p>5 rows × 35 columns</p>\n",
       "</div>"
      ],
      "text/plain": [
       "                 ID  CALENDAR_ID  SERVICE_ABBR  ADHERENCE_ID        DATE  \\\n",
       "0  120230801_345104    120230801             1      99457892  2023-08-01   \n",
       "1  120230801_345105    120230801             1      99457895  2023-08-01   \n",
       "2  120230801_345106    120230801             1      99457899  2023-08-01   \n",
       "3  120230801_345107    120230801             1      99457902  2023-08-01   \n",
       "4  120230801_345108    120230801             1      99457906  2023-08-01   \n",
       "\n",
       "   ROUTE_ABBR  BLOCK_ABBR  OPERATOR  TRIP_ID  OVERLOAD_ID  ...  \\\n",
       "0          22        2200      1040   345104            0  ...   \n",
       "1          22        2200      1040   345105            0  ...   \n",
       "2          22        2200      1040   345106            0  ...   \n",
       "3          22        2200      1040   345107            0  ...   \n",
       "4          22        2200      1040   345108            0  ...   \n",
       "\n",
       "  ADJUSTED_ONTIME_COUNT STOP_CANCELLED  PREV_SCHED_STOP_CANCELLED  IS_RELIEF  \\\n",
       "0                     1              0                        0.0          0   \n",
       "1                     1              0                        0.0          0   \n",
       "2                     1              0                        0.0          0   \n",
       "3                     0              0                        0.0          0   \n",
       "4                     1              0                        0.0          0   \n",
       "\n",
       "   BLOCK_STOP_ORDER  DWELL_IN_MINS NextDay_Scheduled NextDay_Actual_Arrival  \\\n",
       "0                19            0.0                 0                      0   \n",
       "1                51            0.0                 0                      0   \n",
       "2                80            0.0                 0                      0   \n",
       "3               112            0.0                 0                      0   \n",
       "4               141            0.0                 0                      0   \n",
       "\n",
       "  NextDay_Actual_Departure  STARTING_ADHERENCE  \n",
       "0                        0           -2.133333  \n",
       "1                        0           -1.583333  \n",
       "2                        0           -1.716666  \n",
       "3                        0           -1.316666  \n",
       "4                        0           -1.516666  \n",
       "\n",
       "[5 rows x 35 columns]"
      ]
     },
     "execution_count": 4,
     "metadata": {},
     "output_type": "execute_result"
    }
   ],
   "source": [
    "wego.head()"
   ]
  },
  {
   "cell_type": "markdown",
   "id": "0bdfba50",
   "metadata": {},
   "source": [
    " 1.   Fit a linear regression model predicting the ADHERENCE using the ROUTE_ABBR and ROUTE_DIRECTION_NAME columns. Measure the performance of the model using the R^2 and mean absolute error metrics. Interpret the meaning of each metric."
   ]
  },
  {
   "cell_type": "code",
   "execution_count": 5,
   "id": "59ee6e12",
   "metadata": {},
   "outputs": [],
   "source": [
    "from sklearn.linear_model import LinearRegression\n",
    "from sklearn.model_selection import train_test_split"
   ]
  },
  {
   "cell_type": "markdown",
   "id": "c0e02b50",
   "metadata": {},
   "source": [
    "Instantiate linear regression"
   ]
  },
  {
   "cell_type": "code",
   "execution_count": 6,
   "id": "311e7895",
   "metadata": {},
   "outputs": [],
   "source": [
    "linreg = LinearRegression()"
   ]
  },
  {
   "cell_type": "markdown",
   "id": "19ecc249",
   "metadata": {},
   "source": [
    "Pull out the variables we want to fit our model on."
   ]
  },
  {
   "cell_type": "code",
   "execution_count": 7,
   "id": "ed97da4c",
   "metadata": {},
   "outputs": [],
   "source": [
    "X = wego[['ROUTE_ABBR', 'ROUTE_DIRECTION_NAME']]\n",
    "y = wego['ADHERENCE']"
   ]
  },
  {
   "cell_type": "code",
   "execution_count": 8,
   "id": "e4486d32",
   "metadata": {},
   "outputs": [
    {
     "data": {
      "text/html": [
       "<div>\n",
       "<style scoped>\n",
       "    .dataframe tbody tr th:only-of-type {\n",
       "        vertical-align: middle;\n",
       "    }\n",
       "\n",
       "    .dataframe tbody tr th {\n",
       "        vertical-align: top;\n",
       "    }\n",
       "\n",
       "    .dataframe thead th {\n",
       "        text-align: right;\n",
       "    }\n",
       "</style>\n",
       "<table border=\"1\" class=\"dataframe\">\n",
       "  <thead>\n",
       "    <tr style=\"text-align: right;\">\n",
       "      <th></th>\n",
       "      <th>ROUTE_ABBR</th>\n",
       "      <th>ROUTE_DIRECTION_NAME</th>\n",
       "    </tr>\n",
       "  </thead>\n",
       "  <tbody>\n",
       "    <tr>\n",
       "      <th>0</th>\n",
       "      <td>22</td>\n",
       "      <td>TO DOWNTOWN</td>\n",
       "    </tr>\n",
       "    <tr>\n",
       "      <th>1</th>\n",
       "      <td>22</td>\n",
       "      <td>FROM DOWNTOWN</td>\n",
       "    </tr>\n",
       "    <tr>\n",
       "      <th>2</th>\n",
       "      <td>22</td>\n",
       "      <td>TO DOWNTOWN</td>\n",
       "    </tr>\n",
       "    <tr>\n",
       "      <th>3</th>\n",
       "      <td>22</td>\n",
       "      <td>FROM DOWNTOWN</td>\n",
       "    </tr>\n",
       "    <tr>\n",
       "      <th>4</th>\n",
       "      <td>22</td>\n",
       "      <td>TO DOWNTOWN</td>\n",
       "    </tr>\n",
       "  </tbody>\n",
       "</table>\n",
       "</div>"
      ],
      "text/plain": [
       "   ROUTE_ABBR ROUTE_DIRECTION_NAME\n",
       "0          22          TO DOWNTOWN\n",
       "1          22        FROM DOWNTOWN\n",
       "2          22          TO DOWNTOWN\n",
       "3          22        FROM DOWNTOWN\n",
       "4          22          TO DOWNTOWN"
      ]
     },
     "execution_count": 8,
     "metadata": {},
     "output_type": "execute_result"
    }
   ],
   "source": [
    "X.head()"
   ]
  },
  {
   "cell_type": "markdown",
   "id": "86061f1c",
   "metadata": {},
   "source": [
    "Create dummy columns to replace strings in route direction column"
   ]
  },
  {
   "cell_type": "code",
   "execution_count": 9,
   "id": "61ffc8cc",
   "metadata": {},
   "outputs": [],
   "source": [
    "X=pd.get_dummies(X, columns=['ROUTE_ABBR', 'ROUTE_DIRECTION_NAME'], drop_first=True)"
   ]
  },
  {
   "cell_type": "markdown",
   "id": "29c0e24d",
   "metadata": {},
   "source": [
    "test/train split"
   ]
  },
  {
   "cell_type": "code",
   "execution_count": 10,
   "id": "58a7f56a",
   "metadata": {},
   "outputs": [],
   "source": [
    "X_train, X_test, y_train, y_test = train_test_split(X, y, random_state = 7)"
   ]
  },
  {
   "cell_type": "code",
   "execution_count": 11,
   "id": "3c0a89aa",
   "metadata": {},
   "outputs": [
    {
     "data": {
      "text/html": [
       "<div>\n",
       "<style scoped>\n",
       "    .dataframe tbody tr th:only-of-type {\n",
       "        vertical-align: middle;\n",
       "    }\n",
       "\n",
       "    .dataframe tbody tr th {\n",
       "        vertical-align: top;\n",
       "    }\n",
       "\n",
       "    .dataframe thead th {\n",
       "        text-align: right;\n",
       "    }\n",
       "</style>\n",
       "<table border=\"1\" class=\"dataframe\">\n",
       "  <thead>\n",
       "    <tr style=\"text-align: right;\">\n",
       "      <th></th>\n",
       "      <th>ROUTE_ABBR_7</th>\n",
       "      <th>ROUTE_ABBR_22</th>\n",
       "      <th>ROUTE_ABBR_23</th>\n",
       "      <th>ROUTE_ABBR_50</th>\n",
       "      <th>ROUTE_ABBR_52</th>\n",
       "      <th>ROUTE_ABBR_55</th>\n",
       "      <th>ROUTE_ABBR_56</th>\n",
       "      <th>ROUTE_DIRECTION_NAME_TO DOWNTOWN</th>\n",
       "    </tr>\n",
       "  </thead>\n",
       "  <tbody>\n",
       "    <tr>\n",
       "      <th>0</th>\n",
       "      <td>False</td>\n",
       "      <td>True</td>\n",
       "      <td>False</td>\n",
       "      <td>False</td>\n",
       "      <td>False</td>\n",
       "      <td>False</td>\n",
       "      <td>False</td>\n",
       "      <td>True</td>\n",
       "    </tr>\n",
       "    <tr>\n",
       "      <th>1</th>\n",
       "      <td>False</td>\n",
       "      <td>True</td>\n",
       "      <td>False</td>\n",
       "      <td>False</td>\n",
       "      <td>False</td>\n",
       "      <td>False</td>\n",
       "      <td>False</td>\n",
       "      <td>False</td>\n",
       "    </tr>\n",
       "    <tr>\n",
       "      <th>2</th>\n",
       "      <td>False</td>\n",
       "      <td>True</td>\n",
       "      <td>False</td>\n",
       "      <td>False</td>\n",
       "      <td>False</td>\n",
       "      <td>False</td>\n",
       "      <td>False</td>\n",
       "      <td>True</td>\n",
       "    </tr>\n",
       "    <tr>\n",
       "      <th>3</th>\n",
       "      <td>False</td>\n",
       "      <td>True</td>\n",
       "      <td>False</td>\n",
       "      <td>False</td>\n",
       "      <td>False</td>\n",
       "      <td>False</td>\n",
       "      <td>False</td>\n",
       "      <td>False</td>\n",
       "    </tr>\n",
       "    <tr>\n",
       "      <th>4</th>\n",
       "      <td>False</td>\n",
       "      <td>True</td>\n",
       "      <td>False</td>\n",
       "      <td>False</td>\n",
       "      <td>False</td>\n",
       "      <td>False</td>\n",
       "      <td>False</td>\n",
       "      <td>True</td>\n",
       "    </tr>\n",
       "  </tbody>\n",
       "</table>\n",
       "</div>"
      ],
      "text/plain": [
       "   ROUTE_ABBR_7  ROUTE_ABBR_22  ROUTE_ABBR_23  ROUTE_ABBR_50  ROUTE_ABBR_52  \\\n",
       "0         False           True          False          False          False   \n",
       "1         False           True          False          False          False   \n",
       "2         False           True          False          False          False   \n",
       "3         False           True          False          False          False   \n",
       "4         False           True          False          False          False   \n",
       "\n",
       "   ROUTE_ABBR_55  ROUTE_ABBR_56  ROUTE_DIRECTION_NAME_TO DOWNTOWN  \n",
       "0          False          False                              True  \n",
       "1          False          False                             False  \n",
       "2          False          False                              True  \n",
       "3          False          False                             False  \n",
       "4          False          False                              True  "
      ]
     },
     "execution_count": 11,
     "metadata": {},
     "output_type": "execute_result"
    }
   ],
   "source": [
    "X.head()"
   ]
  },
  {
   "cell_type": "markdown",
   "id": "ced2532f",
   "metadata": {},
   "source": [
    "fit test data"
   ]
  },
  {
   "cell_type": "code",
   "execution_count": 12,
   "id": "296593d0",
   "metadata": {},
   "outputs": [
    {
     "data": {
      "text/html": [
       "<style>#sk-container-id-1 {color: black;}#sk-container-id-1 pre{padding: 0;}#sk-container-id-1 div.sk-toggleable {background-color: white;}#sk-container-id-1 label.sk-toggleable__label {cursor: pointer;display: block;width: 100%;margin-bottom: 0;padding: 0.3em;box-sizing: border-box;text-align: center;}#sk-container-id-1 label.sk-toggleable__label-arrow:before {content: \"▸\";float: left;margin-right: 0.25em;color: #696969;}#sk-container-id-1 label.sk-toggleable__label-arrow:hover:before {color: black;}#sk-container-id-1 div.sk-estimator:hover label.sk-toggleable__label-arrow:before {color: black;}#sk-container-id-1 div.sk-toggleable__content {max-height: 0;max-width: 0;overflow: hidden;text-align: left;background-color: #f0f8ff;}#sk-container-id-1 div.sk-toggleable__content pre {margin: 0.2em;color: black;border-radius: 0.25em;background-color: #f0f8ff;}#sk-container-id-1 input.sk-toggleable__control:checked~div.sk-toggleable__content {max-height: 200px;max-width: 100%;overflow: auto;}#sk-container-id-1 input.sk-toggleable__control:checked~label.sk-toggleable__label-arrow:before {content: \"▾\";}#sk-container-id-1 div.sk-estimator input.sk-toggleable__control:checked~label.sk-toggleable__label {background-color: #d4ebff;}#sk-container-id-1 div.sk-label input.sk-toggleable__control:checked~label.sk-toggleable__label {background-color: #d4ebff;}#sk-container-id-1 input.sk-hidden--visually {border: 0;clip: rect(1px 1px 1px 1px);clip: rect(1px, 1px, 1px, 1px);height: 1px;margin: -1px;overflow: hidden;padding: 0;position: absolute;width: 1px;}#sk-container-id-1 div.sk-estimator {font-family: monospace;background-color: #f0f8ff;border: 1px dotted black;border-radius: 0.25em;box-sizing: border-box;margin-bottom: 0.5em;}#sk-container-id-1 div.sk-estimator:hover {background-color: #d4ebff;}#sk-container-id-1 div.sk-parallel-item::after {content: \"\";width: 100%;border-bottom: 1px solid gray;flex-grow: 1;}#sk-container-id-1 div.sk-label:hover label.sk-toggleable__label {background-color: #d4ebff;}#sk-container-id-1 div.sk-serial::before {content: \"\";position: absolute;border-left: 1px solid gray;box-sizing: border-box;top: 0;bottom: 0;left: 50%;z-index: 0;}#sk-container-id-1 div.sk-serial {display: flex;flex-direction: column;align-items: center;background-color: white;padding-right: 0.2em;padding-left: 0.2em;position: relative;}#sk-container-id-1 div.sk-item {position: relative;z-index: 1;}#sk-container-id-1 div.sk-parallel {display: flex;align-items: stretch;justify-content: center;background-color: white;position: relative;}#sk-container-id-1 div.sk-item::before, #sk-container-id-1 div.sk-parallel-item::before {content: \"\";position: absolute;border-left: 1px solid gray;box-sizing: border-box;top: 0;bottom: 0;left: 50%;z-index: -1;}#sk-container-id-1 div.sk-parallel-item {display: flex;flex-direction: column;z-index: 1;position: relative;background-color: white;}#sk-container-id-1 div.sk-parallel-item:first-child::after {align-self: flex-end;width: 50%;}#sk-container-id-1 div.sk-parallel-item:last-child::after {align-self: flex-start;width: 50%;}#sk-container-id-1 div.sk-parallel-item:only-child::after {width: 0;}#sk-container-id-1 div.sk-dashed-wrapped {border: 1px dashed gray;margin: 0 0.4em 0.5em 0.4em;box-sizing: border-box;padding-bottom: 0.4em;background-color: white;}#sk-container-id-1 div.sk-label label {font-family: monospace;font-weight: bold;display: inline-block;line-height: 1.2em;}#sk-container-id-1 div.sk-label-container {text-align: center;}#sk-container-id-1 div.sk-container {/* jupyter's `normalize.less` sets `[hidden] { display: none; }` but bootstrap.min.css set `[hidden] { display: none !important; }` so we also need the `!important` here to be able to override the default hidden behavior on the sphinx rendered scikit-learn.org. See: https://github.com/scikit-learn/scikit-learn/issues/21755 */display: inline-block !important;position: relative;}#sk-container-id-1 div.sk-text-repr-fallback {display: none;}</style><div id=\"sk-container-id-1\" class=\"sk-top-container\"><div class=\"sk-text-repr-fallback\"><pre>LinearRegression()</pre><b>In a Jupyter environment, please rerun this cell to show the HTML representation or trust the notebook. <br />On GitHub, the HTML representation is unable to render, please try loading this page with nbviewer.org.</b></div><div class=\"sk-container\" hidden><div class=\"sk-item\"><div class=\"sk-estimator sk-toggleable\"><input class=\"sk-toggleable__control sk-hidden--visually\" id=\"sk-estimator-id-1\" type=\"checkbox\" checked><label for=\"sk-estimator-id-1\" class=\"sk-toggleable__label sk-toggleable__label-arrow\">LinearRegression</label><div class=\"sk-toggleable__content\"><pre>LinearRegression()</pre></div></div></div></div></div>"
      ],
      "text/plain": [
       "LinearRegression()"
      ]
     },
     "execution_count": 12,
     "metadata": {},
     "output_type": "execute_result"
    }
   ],
   "source": [
    "linreg.fit(X_train, y_train)"
   ]
  },
  {
   "cell_type": "markdown",
   "id": "c4b34cee",
   "metadata": {},
   "source": [
    "Extract intercept and coefficients"
   ]
  },
  {
   "cell_type": "code",
   "execution_count": 13,
   "id": "4d0bc870",
   "metadata": {},
   "outputs": [
    {
     "data": {
      "text/plain": [
       "-5.142421109756599"
      ]
     },
     "execution_count": 13,
     "metadata": {},
     "output_type": "execute_result"
    }
   ],
   "source": [
    "linreg.intercept_"
   ]
  },
  {
   "cell_type": "code",
   "execution_count": 14,
   "id": "24ca64ad",
   "metadata": {},
   "outputs": [
    {
     "data": {
      "text/plain": [
       "array([-0.01888845,  2.00406432,  1.52858121,  1.05122561, -0.30103696,\n",
       "       -2.25162994,  0.29060458,  2.03452803])"
      ]
     },
     "execution_count": 14,
     "metadata": {},
     "output_type": "execute_result"
    }
   ],
   "source": [
    "linreg.coef_"
   ]
  },
  {
   "cell_type": "markdown",
   "id": "b0011254",
   "metadata": {},
   "source": [
    "predict to generate predictions from model"
   ]
  },
  {
   "cell_type": "code",
   "execution_count": 15,
   "id": "0dc89640",
   "metadata": {},
   "outputs": [
    {
     "data": {
      "text/plain": [
       "array([-3.13835679, -3.10789308, -2.05666747, ..., -7.39405105,\n",
       "       -2.05666747, -2.8172885 ])"
      ]
     },
     "execution_count": 15,
     "metadata": {},
     "output_type": "execute_result"
    }
   ],
   "source": [
    "y_pred = linreg.predict(X_test)\n",
    "y_pred"
   ]
  },
  {
   "cell_type": "markdown",
   "id": "da4b17b2",
   "metadata": {},
   "source": [
    "Test accuracy of model against R^2 and mean absolute error metrics"
   ]
  },
  {
   "cell_type": "code",
   "execution_count": 16,
   "id": "a9d699e9",
   "metadata": {},
   "outputs": [],
   "source": [
    "from sklearn.metrics import mean_squared_error, mean_absolute_error, r2_score"
   ]
  },
  {
   "cell_type": "code",
   "execution_count": 17,
   "id": "8bf02da0",
   "metadata": {},
   "outputs": [
    {
     "data": {
      "text/plain": [
       "3.5197742674855497"
      ]
     },
     "execution_count": 17,
     "metadata": {},
     "output_type": "execute_result"
    }
   ],
   "source": [
    "mean_absolute_error(y_test, y_pred)"
   ]
  },
  {
   "cell_type": "code",
   "execution_count": 18,
   "id": "d0d15eb1",
   "metadata": {},
   "outputs": [
    {
     "data": {
      "text/plain": [
       "0.07739460504060436"
      ]
     },
     "execution_count": 18,
     "metadata": {},
     "output_type": "execute_result"
    }
   ],
   "source": [
    "r2_score(y_test, y_pred)"
   ]
  },
  {
   "cell_type": "markdown",
   "id": "b37cd9f1",
   "metadata": {},
   "source": [
    " 2.   Now, try using the ROUTE_ABBR, ROUTE_DIRECTION_NAME, and OPERATOR. Does this improve the model? Warning: Your model may perform very poorly once you add the OPERATOR. If so, this is likely caused because some operators have very few observations. One option to correct this is to assign an \"Other\" (or -999999) value to operators with few observations."
   ]
  },
  {
   "cell_type": "code",
   "execution_count": 40,
   "id": "5df29c73",
   "metadata": {},
   "outputs": [],
   "source": [
    "X = wego[['ROUTE_ABBR', 'ROUTE_DIRECTION_NAME', 'OPERATOR']]\n",
    "y = wego['ADHERENCE']"
   ]
  },
  {
   "cell_type": "code",
   "execution_count": 41,
   "id": "efde537e",
   "metadata": {},
   "outputs": [
    {
     "name": "stdout",
     "output_type": "stream",
     "text": [
      "<class 'pandas.core.frame.DataFrame'>\n",
      "RangeIndex: 64333 entries, 0 to 64332\n",
      "Data columns (total 3 columns):\n",
      " #   Column                Non-Null Count  Dtype \n",
      "---  ------                --------------  ----- \n",
      " 0   ROUTE_ABBR            64333 non-null  int64 \n",
      " 1   ROUTE_DIRECTION_NAME  64333 non-null  object\n",
      " 2   OPERATOR              64333 non-null  int64 \n",
      "dtypes: int64(2), object(1)\n",
      "memory usage: 1.5+ MB\n"
     ]
    }
   ],
   "source": [
    "X.info()"
   ]
  },
  {
   "cell_type": "markdown",
   "id": "9915d2bd",
   "metadata": {},
   "source": [
    "Get dummies for route direction and operator"
   ]
  },
  {
   "cell_type": "code",
   "execution_count": 42,
   "id": "4f98b864",
   "metadata": {},
   "outputs": [],
   "source": [
    "X=pd.get_dummies(X, columns=['ROUTE_ABBR', 'ROUTE_DIRECTION_NAME', 'OPERATOR'], drop_first=True)"
   ]
  },
  {
   "cell_type": "code",
   "execution_count": 43,
   "id": "45dc20bc",
   "metadata": {},
   "outputs": [
    {
     "data": {
      "text/html": [
       "<div>\n",
       "<style scoped>\n",
       "    .dataframe tbody tr th:only-of-type {\n",
       "        vertical-align: middle;\n",
       "    }\n",
       "\n",
       "    .dataframe tbody tr th {\n",
       "        vertical-align: top;\n",
       "    }\n",
       "\n",
       "    .dataframe thead th {\n",
       "        text-align: right;\n",
       "    }\n",
       "</style>\n",
       "<table border=\"1\" class=\"dataframe\">\n",
       "  <thead>\n",
       "    <tr style=\"text-align: right;\">\n",
       "      <th></th>\n",
       "      <th>ROUTE_ABBR_7</th>\n",
       "      <th>ROUTE_ABBR_22</th>\n",
       "      <th>ROUTE_ABBR_23</th>\n",
       "      <th>ROUTE_ABBR_50</th>\n",
       "      <th>ROUTE_ABBR_52</th>\n",
       "      <th>ROUTE_ABBR_55</th>\n",
       "      <th>ROUTE_ABBR_56</th>\n",
       "      <th>ROUTE_DIRECTION_NAME_TO DOWNTOWN</th>\n",
       "      <th>OPERATOR_244</th>\n",
       "      <th>OPERATOR_301</th>\n",
       "      <th>...</th>\n",
       "      <th>OPERATOR_3134</th>\n",
       "      <th>OPERATOR_3138</th>\n",
       "      <th>OPERATOR_3140</th>\n",
       "      <th>OPERATOR_3142</th>\n",
       "      <th>OPERATOR_3144</th>\n",
       "      <th>OPERATOR_3149</th>\n",
       "      <th>OPERATOR_3156</th>\n",
       "      <th>OPERATOR_3165</th>\n",
       "      <th>OPERATOR_3166</th>\n",
       "      <th>OPERATOR_3173</th>\n",
       "    </tr>\n",
       "  </thead>\n",
       "  <tbody>\n",
       "    <tr>\n",
       "      <th>0</th>\n",
       "      <td>False</td>\n",
       "      <td>True</td>\n",
       "      <td>False</td>\n",
       "      <td>False</td>\n",
       "      <td>False</td>\n",
       "      <td>False</td>\n",
       "      <td>False</td>\n",
       "      <td>True</td>\n",
       "      <td>False</td>\n",
       "      <td>False</td>\n",
       "      <td>...</td>\n",
       "      <td>False</td>\n",
       "      <td>False</td>\n",
       "      <td>False</td>\n",
       "      <td>False</td>\n",
       "      <td>False</td>\n",
       "      <td>False</td>\n",
       "      <td>False</td>\n",
       "      <td>False</td>\n",
       "      <td>False</td>\n",
       "      <td>False</td>\n",
       "    </tr>\n",
       "    <tr>\n",
       "      <th>1</th>\n",
       "      <td>False</td>\n",
       "      <td>True</td>\n",
       "      <td>False</td>\n",
       "      <td>False</td>\n",
       "      <td>False</td>\n",
       "      <td>False</td>\n",
       "      <td>False</td>\n",
       "      <td>False</td>\n",
       "      <td>False</td>\n",
       "      <td>False</td>\n",
       "      <td>...</td>\n",
       "      <td>False</td>\n",
       "      <td>False</td>\n",
       "      <td>False</td>\n",
       "      <td>False</td>\n",
       "      <td>False</td>\n",
       "      <td>False</td>\n",
       "      <td>False</td>\n",
       "      <td>False</td>\n",
       "      <td>False</td>\n",
       "      <td>False</td>\n",
       "    </tr>\n",
       "    <tr>\n",
       "      <th>2</th>\n",
       "      <td>False</td>\n",
       "      <td>True</td>\n",
       "      <td>False</td>\n",
       "      <td>False</td>\n",
       "      <td>False</td>\n",
       "      <td>False</td>\n",
       "      <td>False</td>\n",
       "      <td>True</td>\n",
       "      <td>False</td>\n",
       "      <td>False</td>\n",
       "      <td>...</td>\n",
       "      <td>False</td>\n",
       "      <td>False</td>\n",
       "      <td>False</td>\n",
       "      <td>False</td>\n",
       "      <td>False</td>\n",
       "      <td>False</td>\n",
       "      <td>False</td>\n",
       "      <td>False</td>\n",
       "      <td>False</td>\n",
       "      <td>False</td>\n",
       "    </tr>\n",
       "    <tr>\n",
       "      <th>3</th>\n",
       "      <td>False</td>\n",
       "      <td>True</td>\n",
       "      <td>False</td>\n",
       "      <td>False</td>\n",
       "      <td>False</td>\n",
       "      <td>False</td>\n",
       "      <td>False</td>\n",
       "      <td>False</td>\n",
       "      <td>False</td>\n",
       "      <td>False</td>\n",
       "      <td>...</td>\n",
       "      <td>False</td>\n",
       "      <td>False</td>\n",
       "      <td>False</td>\n",
       "      <td>False</td>\n",
       "      <td>False</td>\n",
       "      <td>False</td>\n",
       "      <td>False</td>\n",
       "      <td>False</td>\n",
       "      <td>False</td>\n",
       "      <td>False</td>\n",
       "    </tr>\n",
       "    <tr>\n",
       "      <th>4</th>\n",
       "      <td>False</td>\n",
       "      <td>True</td>\n",
       "      <td>False</td>\n",
       "      <td>False</td>\n",
       "      <td>False</td>\n",
       "      <td>False</td>\n",
       "      <td>False</td>\n",
       "      <td>True</td>\n",
       "      <td>False</td>\n",
       "      <td>False</td>\n",
       "      <td>...</td>\n",
       "      <td>False</td>\n",
       "      <td>False</td>\n",
       "      <td>False</td>\n",
       "      <td>False</td>\n",
       "      <td>False</td>\n",
       "      <td>False</td>\n",
       "      <td>False</td>\n",
       "      <td>False</td>\n",
       "      <td>False</td>\n",
       "      <td>False</td>\n",
       "    </tr>\n",
       "  </tbody>\n",
       "</table>\n",
       "<p>5 rows × 344 columns</p>\n",
       "</div>"
      ],
      "text/plain": [
       "   ROUTE_ABBR_7  ROUTE_ABBR_22  ROUTE_ABBR_23  ROUTE_ABBR_50  ROUTE_ABBR_52  \\\n",
       "0         False           True          False          False          False   \n",
       "1         False           True          False          False          False   \n",
       "2         False           True          False          False          False   \n",
       "3         False           True          False          False          False   \n",
       "4         False           True          False          False          False   \n",
       "\n",
       "   ROUTE_ABBR_55  ROUTE_ABBR_56  ROUTE_DIRECTION_NAME_TO DOWNTOWN  \\\n",
       "0          False          False                              True   \n",
       "1          False          False                             False   \n",
       "2          False          False                              True   \n",
       "3          False          False                             False   \n",
       "4          False          False                              True   \n",
       "\n",
       "   OPERATOR_244  OPERATOR_301  ...  OPERATOR_3134  OPERATOR_3138  \\\n",
       "0         False         False  ...          False          False   \n",
       "1         False         False  ...          False          False   \n",
       "2         False         False  ...          False          False   \n",
       "3         False         False  ...          False          False   \n",
       "4         False         False  ...          False          False   \n",
       "\n",
       "   OPERATOR_3140  OPERATOR_3142  OPERATOR_3144  OPERATOR_3149  OPERATOR_3156  \\\n",
       "0          False          False          False          False          False   \n",
       "1          False          False          False          False          False   \n",
       "2          False          False          False          False          False   \n",
       "3          False          False          False          False          False   \n",
       "4          False          False          False          False          False   \n",
       "\n",
       "   OPERATOR_3165  OPERATOR_3166  OPERATOR_3173  \n",
       "0          False          False          False  \n",
       "1          False          False          False  \n",
       "2          False          False          False  \n",
       "3          False          False          False  \n",
       "4          False          False          False  \n",
       "\n",
       "[5 rows x 344 columns]"
      ]
     },
     "execution_count": 43,
     "metadata": {},
     "output_type": "execute_result"
    }
   ],
   "source": [
    "X.head()"
   ]
  },
  {
   "cell_type": "code",
   "execution_count": 44,
   "id": "e1c8bec5",
   "metadata": {},
   "outputs": [],
   "source": [
    "X_train, X_test, y_train, y_test = train_test_split(X, y, random_state = 7)"
   ]
  },
  {
   "cell_type": "code",
   "execution_count": 45,
   "id": "efac1d7e",
   "metadata": {},
   "outputs": [
    {
     "data": {
      "text/html": [
       "<style>#sk-container-id-4 {color: black;}#sk-container-id-4 pre{padding: 0;}#sk-container-id-4 div.sk-toggleable {background-color: white;}#sk-container-id-4 label.sk-toggleable__label {cursor: pointer;display: block;width: 100%;margin-bottom: 0;padding: 0.3em;box-sizing: border-box;text-align: center;}#sk-container-id-4 label.sk-toggleable__label-arrow:before {content: \"▸\";float: left;margin-right: 0.25em;color: #696969;}#sk-container-id-4 label.sk-toggleable__label-arrow:hover:before {color: black;}#sk-container-id-4 div.sk-estimator:hover label.sk-toggleable__label-arrow:before {color: black;}#sk-container-id-4 div.sk-toggleable__content {max-height: 0;max-width: 0;overflow: hidden;text-align: left;background-color: #f0f8ff;}#sk-container-id-4 div.sk-toggleable__content pre {margin: 0.2em;color: black;border-radius: 0.25em;background-color: #f0f8ff;}#sk-container-id-4 input.sk-toggleable__control:checked~div.sk-toggleable__content {max-height: 200px;max-width: 100%;overflow: auto;}#sk-container-id-4 input.sk-toggleable__control:checked~label.sk-toggleable__label-arrow:before {content: \"▾\";}#sk-container-id-4 div.sk-estimator input.sk-toggleable__control:checked~label.sk-toggleable__label {background-color: #d4ebff;}#sk-container-id-4 div.sk-label input.sk-toggleable__control:checked~label.sk-toggleable__label {background-color: #d4ebff;}#sk-container-id-4 input.sk-hidden--visually {border: 0;clip: rect(1px 1px 1px 1px);clip: rect(1px, 1px, 1px, 1px);height: 1px;margin: -1px;overflow: hidden;padding: 0;position: absolute;width: 1px;}#sk-container-id-4 div.sk-estimator {font-family: monospace;background-color: #f0f8ff;border: 1px dotted black;border-radius: 0.25em;box-sizing: border-box;margin-bottom: 0.5em;}#sk-container-id-4 div.sk-estimator:hover {background-color: #d4ebff;}#sk-container-id-4 div.sk-parallel-item::after {content: \"\";width: 100%;border-bottom: 1px solid gray;flex-grow: 1;}#sk-container-id-4 div.sk-label:hover label.sk-toggleable__label {background-color: #d4ebff;}#sk-container-id-4 div.sk-serial::before {content: \"\";position: absolute;border-left: 1px solid gray;box-sizing: border-box;top: 0;bottom: 0;left: 50%;z-index: 0;}#sk-container-id-4 div.sk-serial {display: flex;flex-direction: column;align-items: center;background-color: white;padding-right: 0.2em;padding-left: 0.2em;position: relative;}#sk-container-id-4 div.sk-item {position: relative;z-index: 1;}#sk-container-id-4 div.sk-parallel {display: flex;align-items: stretch;justify-content: center;background-color: white;position: relative;}#sk-container-id-4 div.sk-item::before, #sk-container-id-4 div.sk-parallel-item::before {content: \"\";position: absolute;border-left: 1px solid gray;box-sizing: border-box;top: 0;bottom: 0;left: 50%;z-index: -1;}#sk-container-id-4 div.sk-parallel-item {display: flex;flex-direction: column;z-index: 1;position: relative;background-color: white;}#sk-container-id-4 div.sk-parallel-item:first-child::after {align-self: flex-end;width: 50%;}#sk-container-id-4 div.sk-parallel-item:last-child::after {align-self: flex-start;width: 50%;}#sk-container-id-4 div.sk-parallel-item:only-child::after {width: 0;}#sk-container-id-4 div.sk-dashed-wrapped {border: 1px dashed gray;margin: 0 0.4em 0.5em 0.4em;box-sizing: border-box;padding-bottom: 0.4em;background-color: white;}#sk-container-id-4 div.sk-label label {font-family: monospace;font-weight: bold;display: inline-block;line-height: 1.2em;}#sk-container-id-4 div.sk-label-container {text-align: center;}#sk-container-id-4 div.sk-container {/* jupyter's `normalize.less` sets `[hidden] { display: none; }` but bootstrap.min.css set `[hidden] { display: none !important; }` so we also need the `!important` here to be able to override the default hidden behavior on the sphinx rendered scikit-learn.org. See: https://github.com/scikit-learn/scikit-learn/issues/21755 */display: inline-block !important;position: relative;}#sk-container-id-4 div.sk-text-repr-fallback {display: none;}</style><div id=\"sk-container-id-4\" class=\"sk-top-container\"><div class=\"sk-text-repr-fallback\"><pre>LinearRegression()</pre><b>In a Jupyter environment, please rerun this cell to show the HTML representation or trust the notebook. <br />On GitHub, the HTML representation is unable to render, please try loading this page with nbviewer.org.</b></div><div class=\"sk-container\" hidden><div class=\"sk-item\"><div class=\"sk-estimator sk-toggleable\"><input class=\"sk-toggleable__control sk-hidden--visually\" id=\"sk-estimator-id-4\" type=\"checkbox\" checked><label for=\"sk-estimator-id-4\" class=\"sk-toggleable__label sk-toggleable__label-arrow\">LinearRegression</label><div class=\"sk-toggleable__content\"><pre>LinearRegression()</pre></div></div></div></div></div>"
      ],
      "text/plain": [
       "LinearRegression()"
      ]
     },
     "execution_count": 45,
     "metadata": {},
     "output_type": "execute_result"
    }
   ],
   "source": [
    "linreg.fit(X_train, y_train)"
   ]
  },
  {
   "cell_type": "code",
   "execution_count": 25,
   "id": "1300088e",
   "metadata": {},
   "outputs": [
    {
     "data": {
      "text/plain": [
       "21840321895050.72"
      ]
     },
     "execution_count": 25,
     "metadata": {},
     "output_type": "execute_result"
    }
   ],
   "source": [
    "linreg.intercept_"
   ]
  },
  {
   "cell_type": "code",
   "execution_count": 46,
   "id": "8194f51d",
   "metadata": {
    "scrolled": true
   },
   "outputs": [
    {
     "data": {
      "text/plain": [
       "array([ 2.54149524e-01,  1.46898586e+00,  1.30964724e+00,  7.84696579e-01,\n",
       "       -6.00234756e-02, -2.47630258e+00,  2.87006543e-01,  1.95766414e+00,\n",
       "        6.26116176e-01,  1.87671603e+00,  2.08812586e-01, -3.83783655e-02,\n",
       "        3.32392278e+00, -1.49177928e+00,  1.85899033e+00, -2.41663665e+00,\n",
       "       -5.87138866e-01,  3.41583864e+00,  1.73456590e+00,  6.52160956e-01,\n",
       "        5.75313673e-01,  6.67761632e+00,  1.29310546e-01,  7.01876478e-01,\n",
       "        5.51672591e-01,  2.86315871e+00,  8.66889851e-01,  6.99005066e-01,\n",
       "        1.28101115e+00, -4.39545713e+00,  2.35969059e+00, -3.11260199e+00,\n",
       "        3.72244680e+00,  3.05833573e+00,  2.37616463e+00,  2.84754808e+00,\n",
       "        8.88548980e-01, -4.06450687e+00,  1.96191786e+00,  2.04784262e+00,\n",
       "        5.91821969e-01,  1.83582788e+00,  2.20229265e+00,  3.47310566e+00,\n",
       "        1.04082143e+00,  6.47084205e-01,  9.90103647e-01,  2.75698087e+00,\n",
       "        4.46553740e-01, -1.11860290e+00,  8.07619043e-01,  4.68968887e+00,\n",
       "       -7.17210659e-01, -2.41431526e-01,  8.10409411e-01,  6.08274272e-01,\n",
       "       -1.88487189e+00,  1.44775143e+00,  9.40761380e-01,  3.06319807e+00,\n",
       "       -1.71728151e+00,  4.24048352e-01,  4.77847743e+00,  2.26700537e+00,\n",
       "        3.42119911e+00, -6.14419448e-01,  9.79116559e-01, -2.85643025e+00,\n",
       "        1.11168978e+00, -8.99432971e-01,  1.60973071e+00,  3.29418508e+00,\n",
       "       -6.10956319e-01,  3.51835758e-01,  5.34190820e-01,  3.05473398e+00,\n",
       "        2.31404800e+00,  3.45126960e+00,  2.34224312e+00,  1.42791622e+00,\n",
       "        4.14947791e-01,  4.72676909e-01,  2.43785514e+00,  6.44812741e-01,\n",
       "        7.97008773e-01, -4.05822197e-01, -8.60692806e-01,  3.49012302e+00,\n",
       "        3.04916952e+00,  1.71134840e+00,  2.37703684e+00,  3.70214162e+00,\n",
       "        2.06256161e+00,  1.04584559e+00,  5.27256623e-01, -1.44110635e+00,\n",
       "        1.10934737e+00, -2.36631142e-01,  1.60089172e+00,  3.50607106e+00,\n",
       "       -1.74233759e-01,  5.43881299e+00,  5.99024974e-01,  3.85480269e+00,\n",
       "        3.25765173e+00,  4.49546213e+00,  8.24399597e-01,  1.41387223e+00,\n",
       "        2.86479419e+00,  3.37333643e+00,  2.93669872e+00,  7.09212078e-01,\n",
       "        2.26444466e+00,  2.05664157e+00,  1.87517195e+00,  1.65761634e+00,\n",
       "        1.79060760e+00, -2.79889446e+00, -7.42224382e-01, -8.23663974e-01,\n",
       "        6.84877330e-01,  1.77057533e+00,  5.66449839e-01,  5.92985129e-01,\n",
       "       -6.04439490e-01,  2.93816443e+00,  2.22574606e+00,  4.26334434e-01,\n",
       "        4.00021563e+00,  3.00679912e-01, -1.05595609e+00,  9.89245627e-01,\n",
       "        5.10655486e-01, -5.34189711e+00, -1.33835609e-01,  2.63211110e+00,\n",
       "       -1.16670305e+00,  2.61171798e+00,  1.47343370e+00,  9.25713753e-01,\n",
       "       -1.69729023e+00,  1.30393607e+00,  1.21155296e+00, -3.98199988e-01,\n",
       "       -5.71861900e-01, -2.05086230e+00,  1.37631399e+00, -1.28998816e+00,\n",
       "        2.01355858e+00,  1.80145846e+00,  2.43450396e-01, -1.28011204e-01,\n",
       "        1.30297472e+00,  7.43904856e-01, -2.24001969e+00,  1.62105700e+00,\n",
       "       -3.47605164e+00, -1.51064672e+00,  2.67519081e+00, -3.44137846e+00,\n",
       "        3.12978569e+00, -2.46129335e-01,  1.36849692e+00,  1.70068454e+00,\n",
       "       -1.07651646e+01, -3.49389333e-01,  1.25099189e+00,  1.15621907e+00,\n",
       "        6.04310548e-01,  8.46114016e-01, -2.55467231e-01,  3.39650935e+00,\n",
       "        2.22414716e+00,  1.58269449e+00,  3.99487061e-01,  6.05843964e-01,\n",
       "        3.52245335e+00, -1.70421568e+00,  2.94164658e+00,  1.71787895e+00,\n",
       "        5.01545075e+00,  4.31283802e+00, -5.96523410e-01, -2.57343759e+00,\n",
       "       -5.34216102e+00, -5.52835537e-01,  1.94038822e+00,  2.98124078e+00,\n",
       "        5.20630200e-01, -1.58343824e+00, -6.06965181e-01,  3.85750464e+00,\n",
       "       -1.59600164e+00,  2.54588916e+00,  1.74930995e+00, -3.00629566e+00,\n",
       "        2.55144850e+00, -8.86080332e-01,  4.73016757e-01,  1.42067324e+00,\n",
       "        1.22450047e+00, -4.92672124e-01,  2.63225838e+00, -3.77413384e+00,\n",
       "        1.20807498e+00, -2.16121387e-01,  2.23463893e+00, -3.12595526e+00,\n",
       "        2.23900284e+00, -1.19650410e+00,  5.96268426e-01,  1.87251352e+00,\n",
       "        2.07393310e-02,  3.68708727e+00,  1.23691908e+00,  4.07459240e+00,\n",
       "        1.96397719e+00,  7.14355693e-01,  3.62472455e+00,  1.22325612e+00,\n",
       "        2.91918628e-01,  1.07226638e+00,  4.22283964e-01,  2.22651637e+00,\n",
       "        1.28460996e+00,  2.35056151e+00,  7.43146525e-02, -4.28198253e+00,\n",
       "        3.37132792e+00,  1.40783977e+00,  5.00507073e-01, -8.71997615e-01,\n",
       "        6.48849930e-01, -2.38369583e+00,  3.70353699e+00,  2.49578860e-01,\n",
       "        3.20726204e+00,  3.58169406e+00, -2.06877227e+00, -1.00959859e+00,\n",
       "        4.29383717e+00, -3.28772664e+00,  2.27461921e+00,  4.38045912e-01,\n",
       "        2.54351084e+00, -4.44135268e+00,  6.54629622e-01,  3.23227744e+00,\n",
       "       -6.20150017e-01,  3.01793490e+00, -5.90224928e-01,  3.05706290e-01,\n",
       "        2.19483996e-01, -1.01056729e+00,  1.90942796e+00, -8.30876739e-01,\n",
       "        9.90661276e-01,  1.24290992e+00,  3.75739530e+00,  1.74031200e+00,\n",
       "        4.07175832e+00, -1.63162823e+00,  2.12404280e+00,  1.34747444e-01,\n",
       "        2.51310344e+00, -9.29188100e-01, -9.42968716e-01, -2.27855005e+00,\n",
       "        1.11651809e+00, -1.84423239e+00, -2.60930330e-01, -2.66949243e-01,\n",
       "       -4.03493227e-01,  1.77052517e+00,  1.81454639e+00,  5.33379142e-01,\n",
       "       -2.90835719e+00,  2.73104664e-01, -3.64691751e+00, -6.26973122e-02,\n",
       "       -1.87364423e+00, -7.71879246e-01,  4.46824733e-01,  1.72778628e+00,\n",
       "        1.45265468e+00,  1.88518459e-01,  1.47719864e-01,  4.92091926e-01,\n",
       "       -4.45571235e-01,  9.39151664e-01, -1.67769671e+00, -2.02154910e+00,\n",
       "        1.91262490e+00,  1.62052788e+00,  9.06169891e-01,  1.16834274e+00,\n",
       "        4.43503263e-01, -1.43212155e+01, -1.25429081e-01,  1.59193873e+00,\n",
       "        1.50510812e+00, -1.58036391e-01, -2.24692833e-01, -2.07343883e+00,\n",
       "       -3.96211398e-01, -7.96036422e-02,  5.10605204e-01,  9.20175679e-01,\n",
       "       -4.87712188e-04,  1.13973060e+00, -2.03538138e+00, -3.02121727e+00,\n",
       "        2.31831273e+00,  3.93952508e+00, -1.66748518e+00, -2.00268639e+00,\n",
       "       -8.29886158e-01, -3.81894526e+00, -2.63395882e+00, -4.01750658e+00,\n",
       "        2.13965197e+00,  9.59329417e-01, -7.28082683e+00,  2.21389130e+00,\n",
       "       -1.14651454e-02,  1.45453278e+00,  3.66617659e-01, -4.50804984e+00,\n",
       "       -4.50037535e-01,  1.34615702e+00,  1.33842109e+00, -6.26021811e+00,\n",
       "       -7.90024124e-01,  2.36687767e+00, -6.04144455e-01,  2.51375298e+00,\n",
       "       -1.34200163e+00, -1.74508124e+00,  6.62268212e+00,  2.61741458e+00,\n",
       "       -1.17228570e+00, -5.98333317e+00,  3.13671643e+00,  8.67577412e-01])"
      ]
     },
     "execution_count": 46,
     "metadata": {},
     "output_type": "execute_result"
    }
   ],
   "source": [
    "linreg.coef_"
   ]
  },
  {
   "cell_type": "code",
   "execution_count": 48,
   "id": "33b295de",
   "metadata": {},
   "outputs": [
    {
     "data": {
      "text/plain": [
       "array([-1.76472301, -4.1385375 , -3.25058092, ..., -4.82660554,\n",
       "       -4.34645322, -2.52302506])"
      ]
     },
     "execution_count": 48,
     "metadata": {},
     "output_type": "execute_result"
    }
   ],
   "source": [
    "y_pred = linreg.predict(X_test)\n",
    "y_pred"
   ]
  },
  {
   "cell_type": "code",
   "execution_count": 49,
   "id": "5410425a",
   "metadata": {},
   "outputs": [
    {
     "data": {
      "text/plain": [
       "3.23063141088477"
      ]
     },
     "execution_count": 49,
     "metadata": {},
     "output_type": "execute_result"
    }
   ],
   "source": [
    "mean_absolute_error(y_test, y_pred)"
   ]
  },
  {
   "cell_type": "code",
   "execution_count": 50,
   "id": "b256c77f",
   "metadata": {},
   "outputs": [
    {
     "data": {
      "text/plain": [
       "0.17291641211126374"
      ]
     },
     "execution_count": 50,
     "metadata": {},
     "output_type": "execute_result"
    }
   ],
   "source": [
    "r2_score(y_test, y_pred)"
   ]
  },
  {
   "cell_type": "markdown",
   "id": "57bdd7ec",
   "metadata": {},
   "source": [
    " 3.   Finally, the data you have been provided has an STARTING_ADHERENCE column, which contains the ADHERENCE at the beginning of the route. If you add this metric, does it improve the model? Is this of any practical use?"
   ]
  },
  {
   "cell_type": "code",
   "execution_count": 52,
   "id": "7af9e8ad",
   "metadata": {},
   "outputs": [],
   "source": [
    "X = wego[['ROUTE_ABBR', 'ROUTE_DIRECTION_NAME', 'OPERATOR', 'STARTING_ADHERENCE']]\n",
    "y = wego['ADHERENCE'] "
   ]
  },
  {
   "cell_type": "code",
   "execution_count": 53,
   "id": "39758f5c",
   "metadata": {},
   "outputs": [],
   "source": [
    "X=pd.get_dummies(X, columns=['ROUTE_ABBR', 'ROUTE_DIRECTION_NAME', 'OPERATOR'], drop_first=True)"
   ]
  },
  {
   "cell_type": "code",
   "execution_count": 54,
   "id": "51b96228",
   "metadata": {},
   "outputs": [
    {
     "data": {
      "text/html": [
       "<div>\n",
       "<style scoped>\n",
       "    .dataframe tbody tr th:only-of-type {\n",
       "        vertical-align: middle;\n",
       "    }\n",
       "\n",
       "    .dataframe tbody tr th {\n",
       "        vertical-align: top;\n",
       "    }\n",
       "\n",
       "    .dataframe thead th {\n",
       "        text-align: right;\n",
       "    }\n",
       "</style>\n",
       "<table border=\"1\" class=\"dataframe\">\n",
       "  <thead>\n",
       "    <tr style=\"text-align: right;\">\n",
       "      <th></th>\n",
       "      <th>STARTING_ADHERENCE</th>\n",
       "      <th>ROUTE_ABBR_7</th>\n",
       "      <th>ROUTE_ABBR_22</th>\n",
       "      <th>ROUTE_ABBR_23</th>\n",
       "      <th>ROUTE_ABBR_50</th>\n",
       "      <th>ROUTE_ABBR_52</th>\n",
       "      <th>ROUTE_ABBR_55</th>\n",
       "      <th>ROUTE_ABBR_56</th>\n",
       "      <th>ROUTE_DIRECTION_NAME_TO DOWNTOWN</th>\n",
       "      <th>OPERATOR_244</th>\n",
       "      <th>...</th>\n",
       "      <th>OPERATOR_3134</th>\n",
       "      <th>OPERATOR_3138</th>\n",
       "      <th>OPERATOR_3140</th>\n",
       "      <th>OPERATOR_3142</th>\n",
       "      <th>OPERATOR_3144</th>\n",
       "      <th>OPERATOR_3149</th>\n",
       "      <th>OPERATOR_3156</th>\n",
       "      <th>OPERATOR_3165</th>\n",
       "      <th>OPERATOR_3166</th>\n",
       "      <th>OPERATOR_3173</th>\n",
       "    </tr>\n",
       "  </thead>\n",
       "  <tbody>\n",
       "    <tr>\n",
       "      <th>0</th>\n",
       "      <td>-2.133333</td>\n",
       "      <td>False</td>\n",
       "      <td>True</td>\n",
       "      <td>False</td>\n",
       "      <td>False</td>\n",
       "      <td>False</td>\n",
       "      <td>False</td>\n",
       "      <td>False</td>\n",
       "      <td>True</td>\n",
       "      <td>False</td>\n",
       "      <td>...</td>\n",
       "      <td>False</td>\n",
       "      <td>False</td>\n",
       "      <td>False</td>\n",
       "      <td>False</td>\n",
       "      <td>False</td>\n",
       "      <td>False</td>\n",
       "      <td>False</td>\n",
       "      <td>False</td>\n",
       "      <td>False</td>\n",
       "      <td>False</td>\n",
       "    </tr>\n",
       "    <tr>\n",
       "      <th>1</th>\n",
       "      <td>-1.583333</td>\n",
       "      <td>False</td>\n",
       "      <td>True</td>\n",
       "      <td>False</td>\n",
       "      <td>False</td>\n",
       "      <td>False</td>\n",
       "      <td>False</td>\n",
       "      <td>False</td>\n",
       "      <td>False</td>\n",
       "      <td>False</td>\n",
       "      <td>...</td>\n",
       "      <td>False</td>\n",
       "      <td>False</td>\n",
       "      <td>False</td>\n",
       "      <td>False</td>\n",
       "      <td>False</td>\n",
       "      <td>False</td>\n",
       "      <td>False</td>\n",
       "      <td>False</td>\n",
       "      <td>False</td>\n",
       "      <td>False</td>\n",
       "    </tr>\n",
       "    <tr>\n",
       "      <th>2</th>\n",
       "      <td>-1.716666</td>\n",
       "      <td>False</td>\n",
       "      <td>True</td>\n",
       "      <td>False</td>\n",
       "      <td>False</td>\n",
       "      <td>False</td>\n",
       "      <td>False</td>\n",
       "      <td>False</td>\n",
       "      <td>True</td>\n",
       "      <td>False</td>\n",
       "      <td>...</td>\n",
       "      <td>False</td>\n",
       "      <td>False</td>\n",
       "      <td>False</td>\n",
       "      <td>False</td>\n",
       "      <td>False</td>\n",
       "      <td>False</td>\n",
       "      <td>False</td>\n",
       "      <td>False</td>\n",
       "      <td>False</td>\n",
       "      <td>False</td>\n",
       "    </tr>\n",
       "    <tr>\n",
       "      <th>3</th>\n",
       "      <td>-1.316666</td>\n",
       "      <td>False</td>\n",
       "      <td>True</td>\n",
       "      <td>False</td>\n",
       "      <td>False</td>\n",
       "      <td>False</td>\n",
       "      <td>False</td>\n",
       "      <td>False</td>\n",
       "      <td>False</td>\n",
       "      <td>False</td>\n",
       "      <td>...</td>\n",
       "      <td>False</td>\n",
       "      <td>False</td>\n",
       "      <td>False</td>\n",
       "      <td>False</td>\n",
       "      <td>False</td>\n",
       "      <td>False</td>\n",
       "      <td>False</td>\n",
       "      <td>False</td>\n",
       "      <td>False</td>\n",
       "      <td>False</td>\n",
       "    </tr>\n",
       "    <tr>\n",
       "      <th>4</th>\n",
       "      <td>-1.516666</td>\n",
       "      <td>False</td>\n",
       "      <td>True</td>\n",
       "      <td>False</td>\n",
       "      <td>False</td>\n",
       "      <td>False</td>\n",
       "      <td>False</td>\n",
       "      <td>False</td>\n",
       "      <td>True</td>\n",
       "      <td>False</td>\n",
       "      <td>...</td>\n",
       "      <td>False</td>\n",
       "      <td>False</td>\n",
       "      <td>False</td>\n",
       "      <td>False</td>\n",
       "      <td>False</td>\n",
       "      <td>False</td>\n",
       "      <td>False</td>\n",
       "      <td>False</td>\n",
       "      <td>False</td>\n",
       "      <td>False</td>\n",
       "    </tr>\n",
       "  </tbody>\n",
       "</table>\n",
       "<p>5 rows × 345 columns</p>\n",
       "</div>"
      ],
      "text/plain": [
       "   STARTING_ADHERENCE  ROUTE_ABBR_7  ROUTE_ABBR_22  ROUTE_ABBR_23  \\\n",
       "0           -2.133333         False           True          False   \n",
       "1           -1.583333         False           True          False   \n",
       "2           -1.716666         False           True          False   \n",
       "3           -1.316666         False           True          False   \n",
       "4           -1.516666         False           True          False   \n",
       "\n",
       "   ROUTE_ABBR_50  ROUTE_ABBR_52  ROUTE_ABBR_55  ROUTE_ABBR_56  \\\n",
       "0          False          False          False          False   \n",
       "1          False          False          False          False   \n",
       "2          False          False          False          False   \n",
       "3          False          False          False          False   \n",
       "4          False          False          False          False   \n",
       "\n",
       "   ROUTE_DIRECTION_NAME_TO DOWNTOWN  OPERATOR_244  ...  OPERATOR_3134  \\\n",
       "0                              True         False  ...          False   \n",
       "1                             False         False  ...          False   \n",
       "2                              True         False  ...          False   \n",
       "3                             False         False  ...          False   \n",
       "4                              True         False  ...          False   \n",
       "\n",
       "   OPERATOR_3138  OPERATOR_3140  OPERATOR_3142  OPERATOR_3144  OPERATOR_3149  \\\n",
       "0          False          False          False          False          False   \n",
       "1          False          False          False          False          False   \n",
       "2          False          False          False          False          False   \n",
       "3          False          False          False          False          False   \n",
       "4          False          False          False          False          False   \n",
       "\n",
       "   OPERATOR_3156  OPERATOR_3165  OPERATOR_3166  OPERATOR_3173  \n",
       "0          False          False          False          False  \n",
       "1          False          False          False          False  \n",
       "2          False          False          False          False  \n",
       "3          False          False          False          False  \n",
       "4          False          False          False          False  \n",
       "\n",
       "[5 rows x 345 columns]"
      ]
     },
     "execution_count": 54,
     "metadata": {},
     "output_type": "execute_result"
    }
   ],
   "source": [
    "X.head()"
   ]
  },
  {
   "cell_type": "code",
   "execution_count": 55,
   "id": "f6590c51",
   "metadata": {},
   "outputs": [],
   "source": [
    "X_train, X_test, y_train, y_test = train_test_split(X, y, random_state = 7)"
   ]
  },
  {
   "cell_type": "code",
   "execution_count": 56,
   "id": "50fd7cc1",
   "metadata": {},
   "outputs": [
    {
     "data": {
      "text/html": [
       "<style>#sk-container-id-5 {color: black;}#sk-container-id-5 pre{padding: 0;}#sk-container-id-5 div.sk-toggleable {background-color: white;}#sk-container-id-5 label.sk-toggleable__label {cursor: pointer;display: block;width: 100%;margin-bottom: 0;padding: 0.3em;box-sizing: border-box;text-align: center;}#sk-container-id-5 label.sk-toggleable__label-arrow:before {content: \"▸\";float: left;margin-right: 0.25em;color: #696969;}#sk-container-id-5 label.sk-toggleable__label-arrow:hover:before {color: black;}#sk-container-id-5 div.sk-estimator:hover label.sk-toggleable__label-arrow:before {color: black;}#sk-container-id-5 div.sk-toggleable__content {max-height: 0;max-width: 0;overflow: hidden;text-align: left;background-color: #f0f8ff;}#sk-container-id-5 div.sk-toggleable__content pre {margin: 0.2em;color: black;border-radius: 0.25em;background-color: #f0f8ff;}#sk-container-id-5 input.sk-toggleable__control:checked~div.sk-toggleable__content {max-height: 200px;max-width: 100%;overflow: auto;}#sk-container-id-5 input.sk-toggleable__control:checked~label.sk-toggleable__label-arrow:before {content: \"▾\";}#sk-container-id-5 div.sk-estimator input.sk-toggleable__control:checked~label.sk-toggleable__label {background-color: #d4ebff;}#sk-container-id-5 div.sk-label input.sk-toggleable__control:checked~label.sk-toggleable__label {background-color: #d4ebff;}#sk-container-id-5 input.sk-hidden--visually {border: 0;clip: rect(1px 1px 1px 1px);clip: rect(1px, 1px, 1px, 1px);height: 1px;margin: -1px;overflow: hidden;padding: 0;position: absolute;width: 1px;}#sk-container-id-5 div.sk-estimator {font-family: monospace;background-color: #f0f8ff;border: 1px dotted black;border-radius: 0.25em;box-sizing: border-box;margin-bottom: 0.5em;}#sk-container-id-5 div.sk-estimator:hover {background-color: #d4ebff;}#sk-container-id-5 div.sk-parallel-item::after {content: \"\";width: 100%;border-bottom: 1px solid gray;flex-grow: 1;}#sk-container-id-5 div.sk-label:hover label.sk-toggleable__label {background-color: #d4ebff;}#sk-container-id-5 div.sk-serial::before {content: \"\";position: absolute;border-left: 1px solid gray;box-sizing: border-box;top: 0;bottom: 0;left: 50%;z-index: 0;}#sk-container-id-5 div.sk-serial {display: flex;flex-direction: column;align-items: center;background-color: white;padding-right: 0.2em;padding-left: 0.2em;position: relative;}#sk-container-id-5 div.sk-item {position: relative;z-index: 1;}#sk-container-id-5 div.sk-parallel {display: flex;align-items: stretch;justify-content: center;background-color: white;position: relative;}#sk-container-id-5 div.sk-item::before, #sk-container-id-5 div.sk-parallel-item::before {content: \"\";position: absolute;border-left: 1px solid gray;box-sizing: border-box;top: 0;bottom: 0;left: 50%;z-index: -1;}#sk-container-id-5 div.sk-parallel-item {display: flex;flex-direction: column;z-index: 1;position: relative;background-color: white;}#sk-container-id-5 div.sk-parallel-item:first-child::after {align-self: flex-end;width: 50%;}#sk-container-id-5 div.sk-parallel-item:last-child::after {align-self: flex-start;width: 50%;}#sk-container-id-5 div.sk-parallel-item:only-child::after {width: 0;}#sk-container-id-5 div.sk-dashed-wrapped {border: 1px dashed gray;margin: 0 0.4em 0.5em 0.4em;box-sizing: border-box;padding-bottom: 0.4em;background-color: white;}#sk-container-id-5 div.sk-label label {font-family: monospace;font-weight: bold;display: inline-block;line-height: 1.2em;}#sk-container-id-5 div.sk-label-container {text-align: center;}#sk-container-id-5 div.sk-container {/* jupyter's `normalize.less` sets `[hidden] { display: none; }` but bootstrap.min.css set `[hidden] { display: none !important; }` so we also need the `!important` here to be able to override the default hidden behavior on the sphinx rendered scikit-learn.org. See: https://github.com/scikit-learn/scikit-learn/issues/21755 */display: inline-block !important;position: relative;}#sk-container-id-5 div.sk-text-repr-fallback {display: none;}</style><div id=\"sk-container-id-5\" class=\"sk-top-container\"><div class=\"sk-text-repr-fallback\"><pre>LinearRegression()</pre><b>In a Jupyter environment, please rerun this cell to show the HTML representation or trust the notebook. <br />On GitHub, the HTML representation is unable to render, please try loading this page with nbviewer.org.</b></div><div class=\"sk-container\" hidden><div class=\"sk-item\"><div class=\"sk-estimator sk-toggleable\"><input class=\"sk-toggleable__control sk-hidden--visually\" id=\"sk-estimator-id-5\" type=\"checkbox\" checked><label for=\"sk-estimator-id-5\" class=\"sk-toggleable__label sk-toggleable__label-arrow\">LinearRegression</label><div class=\"sk-toggleable__content\"><pre>LinearRegression()</pre></div></div></div></div></div>"
      ],
      "text/plain": [
       "LinearRegression()"
      ]
     },
     "execution_count": 56,
     "metadata": {},
     "output_type": "execute_result"
    }
   ],
   "source": [
    "linreg.fit(X_train, y_train)"
   ]
  },
  {
   "cell_type": "code",
   "execution_count": 57,
   "id": "742c6fa5",
   "metadata": {},
   "outputs": [
    {
     "data": {
      "text/plain": [
       "-2.1886294018809935"
      ]
     },
     "execution_count": 57,
     "metadata": {},
     "output_type": "execute_result"
    }
   ],
   "source": [
    "linreg.intercept_"
   ]
  },
  {
   "cell_type": "code",
   "execution_count": 58,
   "id": "13fd51ec",
   "metadata": {
    "scrolled": true
   },
   "outputs": [
    {
     "data": {
      "text/plain": [
       "array([ 7.61851772e-01, -2.62948285e-01,  7.77975166e-01,  7.82536317e-01,\n",
       "        9.77188200e-01, -1.07526964e-01, -1.97223762e+00, -4.77602285e-02,\n",
       "        1.29196997e+00, -1.43657976e+00,  3.56142767e-01, -1.26837467e+00,\n",
       "       -3.10785949e-01,  4.33236300e-01, -2.28805203e+00, -2.24041108e-01,\n",
       "       -2.11791529e+00, -1.87988052e+00,  9.64476306e-01,  3.03254994e-01,\n",
       "       -5.86808179e-01, -8.24718025e-01,  4.10369021e+00, -1.19815252e+00,\n",
       "       -1.22936318e+00, -9.31568373e-01,  6.61937389e-01, -1.40241611e-01,\n",
       "        3.32524175e-01, -1.69358336e-01, -1.10623765e-01,  1.07230103e+00,\n",
       "       -5.49702798e-01,  1.53210943e+00,  1.05788887e+00,  8.09743589e-01,\n",
       "        7.37334085e-01,  6.09317938e-01,  4.74973404e+00,  3.32187031e-01,\n",
       "        7.22885052e-01, -1.19269093e+00, -6.24389560e-01,  1.40970343e+00,\n",
       "        2.45252559e+00, -6.51446398e-01,  1.17829492e-01,  6.10695579e-01,\n",
       "        8.57241216e-01, -7.12175731e-01, -1.15895076e+00, -5.95125036e-01,\n",
       "        2.04351487e+00, -7.98277207e-01, -1.04050072e+00, -4.66782461e-01,\n",
       "       -1.27616697e+00, -1.66617086e+00, -8.55779458e-02, -5.64741279e-01,\n",
       "        1.46870615e+00, -3.10524427e+00, -2.47093758e-01,  2.17123825e+00,\n",
       "       -1.20388681e-01,  1.54110733e+00, -1.37026562e+00, -3.34962138e-01,\n",
       "        1.52229298e+00, -4.84814184e-02, -1.68202557e-01,  9.32470336e-01,\n",
       "        1.42529375e+00, -1.44854886e+00, -8.86238653e-01, -1.06210230e-01,\n",
       "        9.97446339e-01,  5.48911552e-01,  1.63620946e+00, -5.81218619e-01,\n",
       "        5.58681736e-02, -1.42010736e+00,  6.20673775e-01,  1.74266722e-01,\n",
       "       -6.12269857e-01, -2.95639427e-01, -2.47309042e-01, -1.38317285e+00,\n",
       "        1.63991612e+00,  1.40524254e+00,  1.09820103e+00,  1.64278822e+00,\n",
       "        3.16332686e+00,  2.29162732e-01,  6.26847165e-01, -1.18896042e+00,\n",
       "       -2.39206876e+00, -7.49501120e-01, -1.51780987e+00, -3.45199327e-01,\n",
       "        1.35027302e+00, -6.35613920e-01,  3.33085964e+00,  8.23068459e-03,\n",
       "        2.45971296e+00,  1.14338876e+00,  1.50383793e+00,  1.53982000e-01,\n",
       "        2.55133440e-01,  1.01865283e+00,  8.43136620e-01,  2.21290934e-01,\n",
       "        1.58830052e-01,  5.90000399e-01,  9.04942398e-02,  7.50453118e-01,\n",
       "       -2.74356156e-01, -1.78096474e-02, -1.24878392e+00, -1.62367774e+00,\n",
       "       -6.61167168e-01,  6.39289217e-01,  7.78537310e-01, -2.36358590e+00,\n",
       "       -1.17947028e-02, -2.10209536e+00,  6.91464448e-01,  7.24286034e-01,\n",
       "       -9.63820884e-01,  1.83363370e+00, -1.64143081e+00, -1.55499407e+00,\n",
       "       -6.55879731e-01,  6.93528985e-01, -3.86989025e+00, -1.66650398e+00,\n",
       "       -1.21591292e-02, -2.71486823e+00,  4.08183411e-01, -8.72054867e-01,\n",
       "       -4.27863002e-02, -1.67699629e+00,  4.74776374e-01, -4.10843331e-01,\n",
       "        2.46315072e-01, -1.45064026e+00, -2.33456893e+00,  7.14792563e-02,\n",
       "       -2.45982049e+00,  1.14284470e+00,  9.64944106e-01,  6.08943258e-02,\n",
       "       -1.67213710e+00,  1.62475787e-01, -3.47809244e-01, -2.22911356e+00,\n",
       "        8.22460820e-01,  3.17963343e-01, -1.48003469e+00,  6.70254804e-01,\n",
       "       -3.42825428e+00,  1.54507393e+00, -8.76547651e-01,  8.03341852e-01,\n",
       "        8.38196830e-01, -1.25921597e+01, -1.27127642e+00,  5.45679696e-01,\n",
       "       -4.31856795e-01,  2.88763429e-02,  8.75111625e-02, -2.57452945e+00,\n",
       "        1.32672345e+00,  5.69904111e-01,  9.20494298e-02, -7.72333560e-01,\n",
       "       -1.06489524e+00,  1.66736850e+00, -3.17357278e+00,  1.91837893e+00,\n",
       "        6.16997758e-01,  2.31726067e+00,  2.22789684e+00, -8.18015832e-01,\n",
       "       -4.97111930e+00, -3.54007643e+00, -1.54055855e+00, -5.48692591e-03,\n",
       "        4.79037881e-01, -1.57227915e-01, -2.87032400e+00, -8.67472646e-01,\n",
       "        1.53311786e+00, -2.94275074e+00,  1.17612279e+00,  6.87278785e-01,\n",
       "       -2.38012624e+00,  6.16809584e-01, -1.46681840e+00,  9.81418271e-01,\n",
       "        9.10761507e-01, -1.90380589e-01,  9.65946365e-02,  3.86625103e-01,\n",
       "        6.50577738e-01, -5.08332672e-01, -1.01027539e+00,  1.20315465e+00,\n",
       "       -1.61432919e+00,  1.94388352e-01, -7.18803603e-01, -3.60439817e-01,\n",
       "        7.49873765e-01, -3.21361954e-01,  1.78665564e+00,  4.99123696e-01,\n",
       "        2.47980307e+00,  2.78733424e-01, -5.05404794e-01,  1.92116031e+00,\n",
       "       -2.00290378e-01,  9.56825596e-01,  2.32404441e-01, -6.56869363e-01,\n",
       "        1.22173826e+00,  8.93188553e-01,  1.23468605e+00, -1.04961725e+00,\n",
       "       -3.00018591e+00,  1.71653011e+00, -3.97657728e-02, -2.85614109e-01,\n",
       "       -8.47951425e-01, -2.44079631e-01, -1.91211303e+00,  1.48408199e+00,\n",
       "        8.02739504e-02,  9.68203389e-01,  8.79675697e-01, -2.78712059e+00,\n",
       "       -1.01114237e+00,  2.18874449e+00, -3.24268806e+00, -5.49759378e-02,\n",
       "        1.08125080e-01,  8.44996606e-01, -5.52972366e+00, -1.51147073e-01,\n",
       "        7.01079803e-01, -2.22141814e+00,  1.71588663e+00, -1.28276415e+00,\n",
       "       -1.34229660e+00, -9.06426977e-01, -2.25138486e+00,  5.18093106e-01,\n",
       "       -2.22209070e+00, -8.23780144e+00,  1.08791757e-02,  1.14966656e+00,\n",
       "        3.04535738e-01,  1.29511079e+00, -2.17519791e+00,  2.08766414e-01,\n",
       "       -1.92881662e-01,  4.62076242e-01, -2.50971527e+00, -1.26762142e+00,\n",
       "       -2.10477181e+00, -5.87674210e-01, -2.47273631e+00, -8.62512974e-01,\n",
       "       -9.72848582e-01, -1.58481317e+00,  1.07637213e-01,  1.37783961e-03,\n",
       "        1.82552216e-01, -2.71263502e+00, -6.80718947e-01, -2.41546757e+00,\n",
       "       -1.05273894e+00, -2.09660637e+00, -1.26726347e+00, -1.67158633e+00,\n",
       "        6.14208843e-01,  6.56356501e-01, -4.83415060e-01, -6.28364315e-01,\n",
       "       -1.13687436e+00, -7.02559794e-01, -3.16522093e-01, -1.92517240e+00,\n",
       "       -2.78468467e+00,  2.21682356e-01,  4.83752769e-01, -1.12720222e+00,\n",
       "        8.17915091e-01, -9.61975817e-01, -1.57140991e+01, -2.59399448e+00,\n",
       "        6.10040695e-01,  8.55925280e-01, -9.54175272e-01, -1.93053658e+00,\n",
       "       -3.08869469e+00, -1.17528908e+00, -1.79463516e+00, -1.66034327e+00,\n",
       "       -3.92318230e-01, -3.32046075e-01, -1.17313366e+00, -1.88298364e+00,\n",
       "       -5.47674379e+00,  4.97436096e-01,  2.31498197e+00, -2.10507912e+00,\n",
       "       -3.13282106e+00, -1.78163554e+00, -3.30602821e+00, -2.22819054e+00,\n",
       "       -3.51261306e+00,  9.55932477e-01,  3.19327694e-02, -3.40385424e+00,\n",
       "        6.14412273e-01, -1.18543398e+00,  2.66871821e-01, -6.00586709e-01,\n",
       "       -2.69487387e+00, -2.12305833e+00,  2.04021295e-02, -1.36110160e-01,\n",
       "       -9.00192317e+00, -1.48790096e+00,  7.00531963e-01, -3.20161418e+00,\n",
       "        1.04777627e+00, -2.10813551e+00, -2.28673811e+00,  2.08859881e-01,\n",
       "        9.93559835e-01, -1.68838326e+00, -3.79512562e+00,  3.18455750e-01,\n",
       "        7.06334397e-01])"
      ]
     },
     "execution_count": 58,
     "metadata": {},
     "output_type": "execute_result"
    }
   ],
   "source": [
    "linreg.coef_"
   ]
  },
  {
   "cell_type": "code",
   "execution_count": 59,
   "id": "527a5aa9",
   "metadata": {},
   "outputs": [
    {
     "data": {
      "text/plain": [
       "array([-2.57386152, -3.03136761, -1.86261137, ..., -2.91032874,\n",
       "       -5.81147004, -1.72379508])"
      ]
     },
     "execution_count": 59,
     "metadata": {},
     "output_type": "execute_result"
    }
   ],
   "source": [
    "y_pred = linreg.predict(X_test)\n",
    "y_pred"
   ]
  },
  {
   "cell_type": "code",
   "execution_count": 60,
   "id": "8398b5b7",
   "metadata": {},
   "outputs": [
    {
     "data": {
      "text/plain": [
       "2.787772245920324"
      ]
     },
     "execution_count": 60,
     "metadata": {},
     "output_type": "execute_result"
    }
   ],
   "source": [
    "mean_absolute_error(y_test, y_pred)"
   ]
  },
  {
   "cell_type": "code",
   "execution_count": 61,
   "id": "0a516f55",
   "metadata": {},
   "outputs": [
    {
     "data": {
      "text/plain": [
       "0.44115571085847016"
      ]
     },
     "execution_count": 61,
     "metadata": {},
     "output_type": "execute_result"
    }
   ],
   "source": [
    "r2_score(y_test, y_pred)"
   ]
  },
  {
   "cell_type": "markdown",
   "id": "e98ee396",
   "metadata": {},
   "source": [
    "Bonus Questions:"
   ]
  },
  {
   "cell_type": "markdown",
   "id": "90adfd7e",
   "metadata": {},
   "source": [
    "1.  How well does a constant-only model perform compared to the models above?"
   ]
  },
  {
   "cell_type": "code",
   "execution_count": null,
   "id": "3fb505db",
   "metadata": {},
   "outputs": [],
   "source": []
  },
  {
   "cell_type": "markdown",
   "id": "9ac1d6b5",
   "metadata": {},
   "source": [
    "2.   For this exercise, you were provided data that was already prepared by condensing each trip into one row. Go back to the original dataset and perform the preparation, creating an ID column and keeping only the next-to-last ADHERENCE value."
   ]
  },
  {
   "cell_type": "code",
   "execution_count": null,
   "id": "03adfaa5",
   "metadata": {},
   "outputs": [],
   "source": []
  }
 ],
 "metadata": {
  "celltoolbar": "Raw Cell Format",
  "kernelspec": {
   "display_name": "Python 3 (ipykernel)",
   "language": "python",
   "name": "python3"
  },
  "language_info": {
   "codemirror_mode": {
    "name": "ipython",
    "version": 3
   },
   "file_extension": ".py",
   "mimetype": "text/x-python",
   "name": "python",
   "nbconvert_exporter": "python",
   "pygments_lexer": "ipython3",
   "version": "3.10.13"
  }
 },
 "nbformat": 4,
 "nbformat_minor": 5
}
