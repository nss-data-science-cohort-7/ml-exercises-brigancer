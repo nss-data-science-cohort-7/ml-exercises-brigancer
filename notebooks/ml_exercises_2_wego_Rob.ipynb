{
 "cells": [
  {
   "cell_type": "markdown",
   "id": "d3f935f7",
   "metadata": {},
   "source": [
    "## Machine Learning Exercise 2 - Introduction to Logistic Regression for Predictive Analytics\n",
    "\n",
    "For this exercise, you'll be using the same wego dataset from last exercise. Your goal will be to predict whether a trip is on-time."
   ]
  },
  {
   "cell_type": "markdown",
   "id": "a56fda7e",
   "metadata": {},
   "source": [
    "1. Create a new (target) variable, ON-TIME. We'll consider a trip to be on-time is it is no more than 6 minutes late (ADHERENCE >= -6) and is  no more than 1 minute early (ADHERENCE <= 1).\n",
    "\n",
    "**Note:** Make sure that you perform a train/test split before fitting any models so that you can properly measure the performance of the model."
   ]
  },
  {
   "cell_type": "code",
   "execution_count": 1,
   "id": "76b8d2f5",
   "metadata": {},
   "outputs": [],
   "source": [
    "import pandas as pd\n",
    "import numpy as np\n"
   ]
  },
  {
   "cell_type": "markdown",
   "id": "4ced5b0a",
   "metadata": {},
   "source": [
    "2. Fit a logistic regression model predicting the ADHERENCE using the ROUTE_ABBR and ROUTE_DIRECTION_NAME columns. How accurate is this model? How does it do in terms of precition and recall? What about ROC-AUC and calibration?"
   ]
  },
  {
   "cell_type": "code",
   "execution_count": null,
   "id": "a118fb19",
   "metadata": {},
   "outputs": [],
   "source": []
  },
  {
   "cell_type": "markdown",
   "id": "ef384b0c",
   "metadata": {},
   "source": [
    "3. Now, try using the ROUTE_ABBR, ROUTE_DIRECTION_NAME, and OPERATOR. Does this improve the model? Note: you may need to increase the max_iter parameter of your model in order for it to converge."
   ]
  },
  {
   "cell_type": "code",
   "execution_count": null,
   "id": "898cb532",
   "metadata": {},
   "outputs": [],
   "source": []
  },
  {
   "cell_type": "markdown",
   "id": "fe9c8669",
   "metadata": {},
   "source": [
    "4. Finally, the data you have been provided has an STARTING_ADHERENCE column, which contains the ADHERENCE at the beginning of the route. If you add this metric, does it improve the model?"
   ]
  },
  {
   "cell_type": "code",
   "execution_count": null,
   "id": "b099055e",
   "metadata": {},
   "outputs": [],
   "source": []
  }
 ],
 "metadata": {
  "kernelspec": {
   "display_name": "Python 3 (ipykernel)",
   "language": "python",
   "name": "python3"
  },
  "language_info": {
   "codemirror_mode": {
    "name": "ipython",
    "version": 3
   },
   "file_extension": ".py",
   "mimetype": "text/x-python",
   "name": "python",
   "nbconvert_exporter": "python",
   "pygments_lexer": "ipython3",
   "version": "3.10.13"
  }
 },
 "nbformat": 4,
 "nbformat_minor": 5
}
